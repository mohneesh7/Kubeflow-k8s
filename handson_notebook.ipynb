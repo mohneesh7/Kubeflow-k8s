{
 "cells": [
  {
   "cell_type": "markdown",
   "metadata": {},
   "source": [
    "# MLOPS Kubernetes and Kubeflow Hands On Notebook"
   ]
  },
  {
   "cell_type": "markdown",
   "metadata": {},
   "source": [
    "## Kubernetes Fundamentals"
   ]
  },
  {
   "cell_type": "markdown",
   "metadata": {},
   "source": [
    "### Overview of Containers and Docker"
   ]
  },
  {
   "cell_type": "markdown",
   "metadata": {},
   "source": [
    "#### Task: Build a simple Docker image for a Python application and run it locally.\n",
    "---\n",
    "**Solution:** \n",
    "* Simple FastAPI web application ---> can be found in the `./webapp/` path\n",
    "* Dockerfile to build the image ---> can be found at `./Dockerfile`\n",
    "* Commands to run the fastAPI application using Docker.\n",
    "    ```\n",
    "    $ docker build -t fastapi_sample_app .\n",
    "    $ docker run -p 8080:8080 fastapi_sample_app\n",
    "    ```\n",
    "* Open `localhost:8080` in the browser to access the application (or use postman to test the API)\n"
   ]
  },
  {
   "cell_type": "markdown",
   "metadata": {},
   "source": [
    "### Intro. to Kubernetes : Architecture and Components"
   ]
  },
  {
   "cell_type": "markdown",
   "metadata": {},
   "source": [
    "#### Task: Explore a running Kubernetes cluster using kubectl (get nodes, pods)\n",
    "----\n",
    "* `kubectl get pods`\n",
    "\n",
    "![get pods](images/pods.png)\n",
    "\n",
    "* `kubectl get svc`\n",
    "\n",
    "![get svc](images/svc.png)\n",
    "\n",
    "* `kubectl get nodes`\n",
    "* `kubectl get deployments`\n",
    "\n",
    "etc..."
   ]
  },
  {
   "cell_type": "markdown",
   "metadata": {},
   "source": [
    "### Setting up kubernetes cluster (Minikube/Kind) "
   ]
  },
  {
   "cell_type": "markdown",
   "metadata": {},
   "source": [
    "#### Task: Install Minikube and create a local kubernetes cluster\n",
    "---\n",
    "\n",
    "To install Minikube on Windows (WSL2):\n",
    "```\n",
    "   > curl -Lo minikube https://storage.googleapis.com/minikube/releases/latest/minikube-linux-amd64\n",
    "\n",
    "   > chmod +x ./minikube\n",
    "   > sudo mv ./minikube /usr/local/bin/\n",
    "   > minikube config set driver docker\n",
    "\n",
    "```\n",
    "Next install Kubectl and use minikube kubectl as default kubectl\n",
    "```\n",
    "   > curl -LO \"https://dl.k8s.io/release/$(curl -L -s https://dl.k8s.io/release/stable.txt)/bin/linux/amd64/kubectl\"\n",
    "   > chmod +x ./kubectl\n",
    "   > sudo mv ./kubectl /usr/local/bin/\n",
    "   > kubectl config use-context minikube\n",
    "   > alias kubectl=\"minikube kubectl --\"\n",
    "```\n"
   ]
  },
  {
   "cell_type": "markdown",
   "metadata": {},
   "source": [
    "### Hands-on: Deploy your first Application on Kubernetes"
   ]
  },
  {
   "cell_type": "markdown",
   "metadata": {},
   "source": [
    "#### Task 1: Create a simple web app and deploy it as K8s deployment.\n",
    "---\n",
    "**Solution:**\n",
    "1. In my case I am using WSL2 inside windows, hence I need to point minikube to the correct docker engine inside minikube.\n",
    "2. Run below command in terminal (Command can be found in minikube docs)\n",
    "```\n",
    "    > eval $(minikube -p minikube docker-env)\n",
    "```\n",
    "3. Build the Docker image again (alternatively we can pull the local built image from the local registry, but for simplicity I will just build this image again inside minikube). Also giving a tag to the image is important as it causes issues when creating deployment.\n",
    "4. Run below command in terminal (Command can be found in minikube docs)\n",
    "```\n",
    "    > docker build -t sample_fast_api:v2 .\n",
    "```\n",
    "5. Create the deployment\n",
    "```\n",
    "    > kubectl create deployment app-dep --image=sample_fast_api:v2\n",
    "```\n",
    "6. Now the application is ready and you can check the deployment my using the `kubectl get pods` command to view the pod exactly. or use `kubectl get deploy` to view the deployments.\n",
    "\n",
    "\n",
    "---\n",
    "#### Task 2: Expose the application using NodePort or LoadBalancer service. \n",
    "---\n",
    "**Solution:**\n",
    "1. Now tht we have a running application, we need to expose the application using NodePort or LoadBalancer service. For this I will use the NodePort service.\n",
    "2. Run below command in terminal (Command can be found in minikube docs)\n",
    "```\n",
    "    > kubectl expose deployment app-dep --type=NodePort --port=8080\n",
    "```\n",
    "3. Now the service is created, to test this locally using minikube you can expose it using the below commnad:\n",
    "```\n",
    "    > minikube service app-dep\n",
    "```\n",
    "4. We should see something like this:\n",
    "\n",
    "    ![minikube service](images/minikube_service.png)\n",
    "\n",
    "---"
   ]
  },
  {
   "cell_type": "markdown",
   "metadata": {},
   "source": [
    "## Kubernetes Objects"
   ]
  },
  {
   "cell_type": "markdown",
   "metadata": {},
   "source": [
    "### Pods, Deployments and Services"
   ]
  },
  {
   "cell_type": "markdown",
   "metadata": {},
   "source": [
    "#### Task 1: Hands-on: Create a deployment with multiple replicas of a pod.\n",
    "---\n",
    "\n",
    "**Solution:**\n",
    "1. I have create a deployment and a service in a single file ---> `./app-dep-deployment`\n",
    "2. This will have 2 replicas, and created a nodeport serive on the port 30000 mapping the container port of 8080.\n",
    "3. create the deplyment using `kubectl create -f app-dep-deployment`\n",
    "4. Because I am using docker desktop's engine here inside WSL2 we need to run the `minikube service app-dep-service` command to expose the service to test locally.\n",
    "\n",
    "#### Task 2: Expose the deployment as a service and access it.\n",
    "---\n",
    "\n",
    "**Solution:**\n",
    "1. This is already achieved in the previous step, we will see something like this:\n",
    "\n",
    "    ![minikube service](images/service_nodeport.png)\n",
    "\n"
   ]
  },
  {
   "cell_type": "markdown",
   "metadata": {},
   "source": [
    "### ConfigMaps and Secrets"
   ]
  },
  {
   "cell_type": "markdown",
   "metadata": {},
   "source": [
    "#### Task 1: Create a Configmap to store application configuration and a secret to store sensitive information.\n",
    "---\n",
    "**Solution:**\n",
    "1. I have created a new YAML file name `app-dep-secret-configmap,yaml`, this contains a secret and a configmap. The deployment will be similar to the previous task, this time I have rebuilt the system with a new docker build as I have made a few changes to the fastAPI application to verify if we are able to access these values as environment variables.\n",
    "\n",
    "    ![newly added settings](images/secret_configmap.png)\n",
    "2. Run `kubectl create -f app-dep-secret-configmap.yaml`\n",
    "3. As we are in WSL2 run `minikube service app-dep-service`\n",
    "\n",
    "  \n",
    "---\n",
    "\n",
    "#### Task 2: Mount ConfigMap and Secret as environment variable in the pod.\n",
    "---\n",
    "4. If we hit the `/secret` and `/configMap` endpoints, we should see the values  in the response. These were set as env variables in the deployment.\n",
    "  ![configmap output](images/configMap.png)\n",
    "---"
   ]
  },
  {
   "cell_type": "markdown",
   "metadata": {},
   "source": []
  }
 ],
 "metadata": {
  "kernelspec": {
   "display_name": ".venv",
   "language": "python",
   "name": "python3"
  },
  "language_info": {
   "codemirror_mode": {
    "name": "ipython",
    "version": 3
   },
   "file_extension": ".py",
   "mimetype": "text/x-python",
   "name": "python",
   "nbconvert_exporter": "python",
   "pygments_lexer": "ipython3",
   "version": "3.10.12"
  }
 },
 "nbformat": 4,
 "nbformat_minor": 2
}
